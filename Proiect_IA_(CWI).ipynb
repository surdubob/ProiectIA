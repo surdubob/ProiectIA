{
  "nbformat": 4,
  "nbformat_minor": 0,
  "metadata": {
    "colab": {
      "name": "Proiect IA (CWI).ipynb",
      "provenance": []
    },
    "kernelspec": {
      "name": "python3",
      "display_name": "Python 3"
    },
    "language_info": {
      "name": "python"
    }
  },
  "cells": [
    {
      "cell_type": "markdown",
      "metadata": {
        "id": "ZhD3aXxioto5"
      },
      "source": [
        "Instalari si importuri necesare"
      ]
    },
    {
      "cell_type": "code",
      "metadata": {
        "colab": {
          "base_uri": "https://localhost:8080/"
        },
        "id": "dlTAT6PKMeeB",
        "outputId": "cc286085-0599-488c-d741-32020ee7ab9d"
      },
      "source": [
        "!pip install pyphen"
      ],
      "execution_count": null,
      "outputs": [
        {
          "output_type": "stream",
          "name": "stdout",
          "text": [
            "Collecting pyphen\n",
            "  Downloading pyphen-0.11.0-py3-none-any.whl (2.0 MB)\n",
            "\u001b[K     |████████████████████████████████| 2.0 MB 5.2 MB/s \n",
            "\u001b[?25hInstalling collected packages: pyphen\n",
            "Successfully installed pyphen-0.11.0\n"
          ]
        }
      ]
    },
    {
      "cell_type": "code",
      "metadata": {
        "colab": {
          "base_uri": "https://localhost:8080/"
        },
        "id": "HqYK5HGsMrJp",
        "outputId": "5e565c54-fc41-4af3-d5f4-59c0be9a7960"
      },
      "source": [
        "import nltk\n",
        "nltk.download('punkt')\n",
        "nltk.download('wordnet')"
      ],
      "execution_count": null,
      "outputs": [
        {
          "output_type": "stream",
          "name": "stdout",
          "text": [
            "[nltk_data] Downloading package punkt to /root/nltk_data...\n",
            "[nltk_data]   Package punkt is already up-to-date!\n",
            "[nltk_data] Downloading package wordnet to /root/nltk_data...\n",
            "[nltk_data]   Unzipping corpora/wordnet.zip.\n"
          ]
        },
        {
          "output_type": "execute_result",
          "data": {
            "text/plain": [
              "True"
            ]
          },
          "metadata": {},
          "execution_count": 63
        }
      ]
    },
    {
      "cell_type": "code",
      "metadata": {
        "id": "NANdSpHbMsd4"
      },
      "source": [
        "from sklearn.neighbors import KNeighborsClassifier\n",
        "from sklearn.metrics import balanced_accuracy_score\n",
        "import pyphen\n",
        "import numpy as np\n",
        "import pandas as pd\n",
        "from nltk.corpus import wordnet\n",
        "from dale_chall import DALE_CHALL\n",
        "from nltk.tokenize import word_tokenize"
      ],
      "execution_count": null,
      "outputs": []
    },
    {
      "cell_type": "markdown",
      "metadata": {
        "id": "JjiVyHlwo1ea"
      },
      "source": [
        "Citirea datelor in dataframe"
      ]
    },
    {
      "cell_type": "code",
      "metadata": {
        "id": "dus6XUoo3MAq"
      },
      "source": [
        "dtypes = {\"sentence\": \"string\", \"token\": \"string\", \"complexity\": \"float64\"}\n",
        "train = pd.read_excel('train.xlsx', dtype=dtypes, keep_default_na=False)\n",
        "test = pd.read_excel('test.xlsx', dtype=dtypes, keep_default_na=False)"
      ],
      "execution_count": null,
      "outputs": []
    },
    {
      "cell_type": "code",
      "metadata": {
        "id": "pXFGhxTNhAuy"
      },
      "source": [
        "print('train data: ', train.shape)\n",
        "print('test data: ', test.shape)"
      ],
      "execution_count": null,
      "outputs": []
    },
    {
      "cell_type": "markdown",
      "metadata": {
        "id": "yTflnpLLpKlY"
      },
      "source": [
        "Generarea de caracteristici legate de structura cuvantului pentru cuvantul tinta "
      ]
    },
    {
      "cell_type": "code",
      "metadata": {
        "id": "5msOGrIMhWKy"
      },
      "source": [
        "def get_word_structure_features(word):\n",
        "    features = []\n",
        "    features.append(nr_syllables(word))\n",
        "    features.append(is_dale_chall(word))\n",
        "    features.append(length(word))\n",
        "    features.append(nr_vowels(word))\n",
        "    features.append(is_title(word))\n",
        "    return np.array(features)"
      ],
      "execution_count": null,
      "outputs": []
    },
    {
      "cell_type": "markdown",
      "metadata": {
        "id": "UnvvIEMuzlR3"
      },
      "source": [
        "Generarea de caracteristici folosind Wordnet pentru cuvantul tinta"
      ]
    },
    {
      "cell_type": "code",
      "metadata": {
        "id": "vaPL4OO0mDDM"
      },
      "source": [
        "def get_wordnet_features(word):\n",
        "  features = []\n",
        "  features.append(synsets(word))\n",
        "  return np.array(features)"
      ],
      "execution_count": null,
      "outputs": []
    },
    {
      "cell_type": "markdown",
      "metadata": {
        "id": "jczmTFWpp9wv"
      },
      "source": [
        "Apelul functiilor de generare de caracteristici"
      ]
    },
    {
      "cell_type": "code",
      "metadata": {
        "id": "LtOi-kl0hZuL"
      },
      "source": [
        "def featurize(row):\n",
        "    word = row['token']\n",
        "    all_features = []\n",
        "    all_features.extend(corpus_feature(row['corpus']))\n",
        "    all_features.extend(get_word_structure_features(word))\n",
        "    all_features.extend(get_wordnet_features(word))\n",
        "    return np.array(all_features)"
      ],
      "execution_count": null,
      "outputs": []
    },
    {
      "cell_type": "code",
      "metadata": {
        "id": "3esMXC0-hexu"
      },
      "source": [
        "def featurize_df(df):\n",
        "    nr_of_features = len(featurize(df.iloc[0]))\n",
        "    nr_of_examples = len(df)\n",
        "    features = np.zeros((nr_of_examples, nr_of_features))\n",
        "    for index, row in df.iterrows():\n",
        "        row_ftrs = featurize(row)\n",
        "        features[index, :] = row_ftrs\n",
        "    return features"
      ],
      "execution_count": null,
      "outputs": []
    },
    {
      "cell_type": "markdown",
      "metadata": {
        "id": "8rfEGQJrqN3m"
      },
      "source": [
        "Generarea de caracteristici pentru setul de train"
      ]
    },
    {
      "cell_type": "code",
      "metadata": {
        "id": "6OgTsm7QhjYI"
      },
      "source": [
        "X_train = featurize_df(train)\n",
        "y_train = train['complex'].values"
      ],
      "execution_count": null,
      "outputs": []
    },
    {
      "cell_type": "markdown",
      "metadata": {
        "id": "MdTICcKrqRfn"
      },
      "source": [
        "Generarea de caracteristici pentru setul de test"
      ]
    },
    {
      "cell_type": "code",
      "metadata": {
        "id": "jZCOEu3Th9i0"
      },
      "source": [
        "X_test = featurize_df(test)"
      ],
      "execution_count": null,
      "outputs": []
    },
    {
      "cell_type": "code",
      "metadata": {
        "id": "NGNHfW9Ah7WF"
      },
      "source": [
        "for nb in range(1, 8, 2):\n",
        "    model = KNeighborsClassifier(n_neighbors=nb)\n",
        "    model.fit(X_train, y_train)\n",
        "    preds = model.predict(X_test)"
      ],
      "execution_count": null,
      "outputs": []
    }
  ]
}